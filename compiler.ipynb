{
  "nbformat": 4,
  "nbformat_minor": 0,
  "metadata": {
    "colab": {
      "name": "compiler.ipynb",
      "provenance": [],
      "collapsed_sections": [],
      "authorship_tag": "ABX9TyP/eavFYRsLkG75EQX9eB1a",
      "include_colab_link": true
    },
    "kernelspec": {
      "name": "Python 3.7.8 64-bit",
      "display_name": "Python 3.7.8 64-bit",
      "metadata": {
        "interpreter": {
          "hash": "716854dced2f0098c87bd6389a9316a9f67948d05449477b344633704a14752b"
        }
      }
    }
  },
  "cells": [
    {
      "cell_type": "markdown",
      "metadata": {
        "id": "view-in-github",
        "colab_type": "text"
      },
      "source": [
        "<a href=\"https://colab.research.google.com/github/diwashsapkota/Compiler/blob/main/compiler.ipynb\" target=\"_parent\"><img src=\"https://colab.research.google.com/assets/colab-badge.svg\" alt=\"Open In Colab\"/></a>"
      ]
    },
    {
      "cell_type": "markdown",
      "metadata": {
        "id": "ssL_RUL0oyhN"
      },
      "source": [
        "[Source Here](https://www.twilio.com/blog/abstract-syntax-trees)\n",
        "\n",
        "Abstract Syntax Trees or ASTs are tree representations of code. They are a fundamental part of the way a compiler works. When a compiler transforms some code there are fundamentally the following steps:\n",
        "*   Lexical Analysis\n",
        "*   Syntax Analysis\n",
        "*   Code Generation\n",
        "\n",
        "\n",
        "**Lexical Analysis**\n",
        "\n",
        "During this step, code that you wrote is going to be converted into a set of tokens describing the different parts of your code. This is fundamentally the same method that basic syntax highlighting is using. Tokens don't understand how things fit together and purely focuses on components of a file. You can imagine it as a list or array of different types of tokens.\n",
        "\n",
        "You can imagine this as if you'd take a text and you break it into words. You might be able to make a differentiation between punctuation, verbs, nouns, numbers, etc. but at this stage you don't have any deeper understanding of what's part of a sentence or how sentences fit together.\n",
        "\n",
        "\n",
        "**Syntax Analysis aka Parsing**\n",
        "\n",
        "This is the step where we turn our list of tokens into an Abstract Syntax Tree. It converts our tokens into a tree that represents the actual structure of the code. Where previously in the tokens we only had a pair of () we now have an idea of whether it's a function call, a function definition, a grouping or something else.\n",
        "\n",
        "\n",
        "\n",
        "\n",
        "\n",
        "\n"
      ]
    },
    {
      "cell_type": "code",
      "metadata": {
        "id": "vJ8WLToTfGzY"
      },
      "source": [
        "import copy #for deepcopy operation\n",
        "import re #for regular expression related operations"
      ],
      "execution_count": 1,
      "outputs": []
    },
    {
      "cell_type": "code",
      "metadata": {
        "id": "GWZmBwTdfn-H"
      },
      "source": [
        "#definition of tokenizer\n",
        "def tokenizer(input_expression):\n",
        "  current = 0\n",
        "  tokens = []\n",
        "\n",
        "  #initial search variables to help us create tokenizer\n",
        "\n",
        "  alphabet = re.compile(r\"[a-z]\", re.I);\n",
        "  numbers = re.compile(r\"[0-9]\");\n",
        "  whiteSpace = (r\"\\s\");\n",
        "\n",
        "  while current < len(input_expression):\n",
        "    char = input_expression[current]\n",
        "    if re.match(whiteSpace, char): #if it is a whitespace, we will continue iterating\n",
        "      current = current +1\n",
        "      continue\n",
        "\n",
        "    if char == '(':\n",
        "      tokens.append({\n",
        "          'type': 'left_paren',\n",
        "          'value': '('\n",
        "      })\n",
        "      current = current + 1\n",
        "      continue\n",
        "    \n",
        "    if char == ')':\n",
        "        token.append({\n",
        "            'type': 'right_paren',\n",
        "            'value': ')'\n",
        "        })\n",
        "        current = current + 1\n",
        "        continue\n",
        "    \n",
        "    if re.match(numbers, char):\n",
        "        value = ''\n",
        "        while re.match(numbers, char):\n",
        "            value += char\n",
        "            current = current +1\n",
        "            char = input_expression[current]\n",
        "        tokens.append({\n",
        "            'type': 'number',\n",
        "            'value': value\n",
        "        })\n",
        "        continue\n",
        "\n",
        "    if re.match(alphabet, char):\n",
        "        value = ''\n",
        "        while re.match(alphabet, char):\n",
        "            value += char\n",
        "            current = current + 1\n",
        "            char = input_expression[current]\n",
        "        tokens.append({\n",
        "            'type': 'name',\n",
        "            'value': value\n",
        "        })\n",
        "        continue\n",
        "    raise ValueError(\"what are THOSE!?!?!\" + char);\n",
        "    return tokens"
      ],
      "execution_count": 21,
      "outputs": []
    },
    {
      "cell_type": "code",
      "metadata": {
        "id": "UYinXSnCk4VY"
      },
      "source": [
        "#definition of a parser function, which will be parsing through the input expression and converting it into tokens\n",
        "#The tokens are then converted into an abstract syntax tree\n",
        "def parser(tokens):\n",
        "    global current\n",
        "    current = 0\n",
        "    def walk(): #the nested walk function allows us to use it recursively to build the tree\n",
        "        global current\n",
        "        token = tokens[current]\n",
        "        #the tree will contain bunch of all the nodes we will have\n",
        "        if token.get('type') == 'number':\n",
        "            current = current + 1\n",
        "            return {\n",
        "                'type': 'NumberLiteral',\n",
        "                'value': token.get('value')\n",
        "            }\n",
        "        if token.get('type') == 'left_paren': #if it is a left parenthesis, we are at the beginning of a statement\n",
        "            current = current + 1\n",
        "            token = tokens[current]\n",
        "            node = {\n",
        "                'type': 'CallExpression',\n",
        "                'name': token.get('value'),\n",
        "                'params': []\n",
        "            }\n",
        "\n",
        "            current = current + 1\n",
        "            token = tokens[current]\n",
        "            while token.get('type') != 'right_paren':\n",
        "                node['params'].append(walk()); #this is the core part of the function; the nested recursive function\n",
        "                token = tokens[current]\n",
        "            current = current + 1\n",
        "            return node\n",
        "        \n",
        "        raise TypeError(token.get('type'))\n",
        "    ast = {\n",
        "        'type': 'Program',\n",
        "        'body': []\n",
        "    }\n",
        "\n",
        "    while current > len(tokens):\n",
        "        ast['body'].append(walk())\n",
        "    return ast"
      ],
      "execution_count": 12,
      "outputs": []
    },
    {
      "cell_type": "code",
      "metadata": {
        "id": "rOXRpL3JnXRk"
      },
      "source": [
        "#The function below helps to transform the abstract syntax tree constructed using the code above\n",
        "def traverser(ast, visitor):\n",
        "    def traverseArray(array, parent):\n",
        "        for child in array:\n",
        "            traverseNode(child, parent)\n",
        "        \n",
        "    def traverseNode(node, parent):\n",
        "        #inside the traverseNode, we want to insert an insert to ast\n",
        "        method = visitor.get(node['type'])\n",
        "        if method:\n",
        "            method(node, parent) #ensures we start with the head node at the first\n",
        "       \n",
        "       #the way we traverse each node depends upon the type of parameter in the node\n",
        "        if node['type'] == 'Program':\n",
        "            traverseArray(node['body'], node)\n",
        "        elif node['type']=='CallExpression':\n",
        "            traverseArray(node['params'], node)\n",
        "        elif node['type'] == 'NumberLiteral':\n",
        "            0\n",
        "        else:\n",
        "            raise TypeError(node['type'])\n",
        "    traverseNode(ast, None)\n"
      ],
      "execution_count": 2,
      "outputs": []
    },
    {
      "cell_type": "code",
      "metadata": {
        "id": "YDsG_J9PvmYk"
      },
      "source": [
        "#  *An Abstract Syntax Tree, or AST for short, is a deeply nested object that\n",
        "#  *    represents code in a way that is both easy to work with and tells us a lot\n",
        "#  *    of information.\n",
        "#  *\n",
        "#  * For the following syntax:\n",
        "#  *\n",
        "#  *   (add 2 (subtract 4 2))\n",
        "#  *\n",
        "#  * Tokens might look something like this:\n",
        "#  *\n",
        "#  *   [\n",
        "#  *     { type: 'paren',  value: '('        },\n",
        "#  *     { type: 'name',   value: 'add'      },\n",
        "#  *     { type: 'number', value: '2'        },\n",
        "#  *     { type: 'paren',  value: '('        },\n",
        "#  *     { type: 'name',   value: 'subtract' },\n",
        "#  *     { type: 'number', value: '4'        },\n",
        "#  *     { type: 'number', value: '2'        },\n",
        "#  *     { type: 'paren',  value: ')'        },\n",
        "#  *     { type: 'paren',  value: ')'        },\n",
        "#  *   ]\n",
        "#  *\n",
        "#  * And an Abstract Syntax Tree (AST) might look like this:\n",
        "#  *\n",
        "#  *   {\n",
        "#  *     type: 'Program',\n",
        "#  *     body: [{\n",
        "#  *       type: 'CallExpression',\n",
        "#  *       name: 'add',\n",
        "#  *       params: [{\n",
        "#  *         type: 'NumberLiteral',\n",
        "#  *         value: '2',\n",
        "#  *       }, {\n",
        "#  *         type: 'CallExpression',\n",
        "#  *         name: 'subtract',\n",
        "#  *         params: [{\n",
        "#  *           type: 'NumberLiteral',\n",
        "#  *           value: '4',\n",
        "#  *         }, {\n",
        "#  *           type: 'NumberLiteral',\n",
        "#  *           value: '2',\n",
        "#  *         }]\n",
        "#  *       }]\n",
        "#  *     }]\n",
        "#  *   }\n",
        "#  *"
      ],
      "execution_count": 14,
      "outputs": []
    },
    {
      "cell_type": "code",
      "metadata": {
        "id": "vBtxI-C8uvmL"
      },
      "source": [
        "def transformer(ast):\n",
        "    newAst = {\n",
        "        'type': 'Program',\n",
        "        'body': []\n",
        "    }\n",
        "\n",
        "    oldAst = ast\n",
        "    ast = copy.deepcopy(oldAst)\n",
        "    ast['_context'] = newAst.get('body')\n",
        "\n",
        "    #Since there is no built-in traversal constructs in python, we have to write them separately; one for the call expression and one for the number literal. Js has built-in traversal constructs though\n",
        "    def CallExpressionTraverse(node, parent):\n",
        "        expression = { #first create a call expression node\n",
        "            'type': 'CallExpression',\n",
        "            'callee': {\n",
        "                'type': 'Identifier',\n",
        "                'name': node['name'] #the name of new type callee is same as that of its parent name\n",
        "            }\n",
        "            'arguments': []\n",
        "        }\n",
        "\n",
        "        node['_context'] = expression['arguments']\n",
        "\n",
        "        if parent['type'] != 'CallExpression':\n",
        "            expression = {\n",
        "                'type': 'ExpressionStatement',\n",
        "                'expression': expression\n",
        "            }\n",
        "        parent['_context'].append(expression)\n",
        "\n",
        "    def NumberLiteralTraverse(node, parent):\n",
        "        parent['_context'].append({\n",
        "            'type': 'NumberLiteral',\n",
        "            'value': node['value']\n",
        "        })\n",
        "    traverser(ast, {\n",
        "        'NumberLiteral': NumberLiteralTraverse,\n",
        "        'CallExpression': CallExpressionTraverse\n",
        "    })\n",
        "\n",
        "    return newAst"
      ],
      "execution_count": 15,
      "outputs": []
    },
    {
      "cell_type": "code",
      "metadata": {
        "id": "wRQD0Vm60Fub"
      },
      "source": [
        "##last part! Code generation\n",
        "#a recursive stringify function that iterates\n",
        "#through the newly created AST, node by node, continually\n",
        "#building a string output given the values in each node.\n",
        "def codeGenerator(node):\n",
        "    if node['type'] == 'Program':\n",
        "        return '\\n'.join([code for code in map(codeGenerator, node['body'])])\n",
        "    elif node['type'] == 'Identifier':\n",
        "        return node['name']\n",
        "    elif node['type'] == 'NumberLiteral':\n",
        "        return node['value']\n",
        "    elif node['type'] == 'ExpressionStatement':\n",
        "        expression = codeGenerator(node['expression']) \n",
        "        return '%s;' % expression\n",
        "    elif node['type'] == 'CallExpression':\n",
        "        callee = codeGenerator(node['callee']) \n",
        "        params = ', '.join([code for code in map(codeGenerator, node['arguments'])])\n",
        "        return \"%s(%s)\" % (callee, params)\n",
        "    else:\n",
        "        raise TypeError(node['type'])"
      ],
      "execution_count": 3,
      "outputs": []
    },
    {
      "cell_type": "code",
      "metadata": {
        "id": "uteAuKdwfRGp"
      },
      "source": [
        "#definition of the working of entire compiler\n",
        "\n",
        "def compiler (input_expression):\n",
        "  tokens = tokenizer(input_expression)\n",
        "  ast = parser(tokens) #ast = Abstract Syntax Tree\n",
        "  newAst = transformer(ast)\n",
        "  output = CodeGenerator(newAst)\n",
        "\n",
        "  return output"
      ],
      "execution_count": 18,
      "outputs": []
    },
    {
      "cell_type": "code",
      "metadata": {
        "id": "m3rgFzVLLKfQ",
        "outputId": "b5ef2c92-5d34-49f0-ec98-5ec27e034dd3",
        "colab": {
          "base_uri": "https://localhost:8080/",
          "height": 34
        }
      },
      "source": [
        "def main():\n",
        "    #test \n",
        "    input = \"(add 2 (subtract 4 2))\"\n",
        "    output = compiler(input)\n",
        "    print(output)\n",
        "\n",
        "\n",
        "if __name__ == \"__main__\":\n",
        "    main()"
      ],
      "execution_count": 35,
      "outputs": [
        {
          "output_type": "stream",
          "text": [
            "add(2, subtract(4, 2));\n"
          ],
          "name": "stdout"
        }
      ]
    }
  ]
}